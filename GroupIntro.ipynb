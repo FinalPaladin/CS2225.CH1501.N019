{
  "nbformat": 4,
  "nbformat_minor": 0,
  "metadata": {
    "colab": {
      "name": "GroupIntro.ipynb",
      "provenance": [],
      "authorship_tag": "ABX9TyOJC00hEUSIbpotiDWk9Qww",
      "include_colab_link": true
    },
    "kernelspec": {
      "name": "python3",
      "display_name": "Python 3"
    }
  },
  "cells": [
    {
      "cell_type": "markdown",
      "metadata": {
        "id": "view-in-github",
        "colab_type": "text"
      },
      "source": [
        "<a href=\"https://colab.research.google.com/github/FinalPaladin/CS2225.CH1501.N019/blob/master/GroupIntro.ipynb\" target=\"_parent\"><img src=\"https://colab.research.google.com/assets/colab-badge.svg\" alt=\"Open In Colab\"/></a>"
      ]
    },
    {
      "cell_type": "code",
      "metadata": {
        "id": "6vUSi_d5nZKl",
        "colab_type": "code",
        "colab": {}
      },
      "source": [
        ""
      ],
      "execution_count": null,
      "outputs": []
    },
    {
      "cell_type": "markdown",
      "metadata": {
        "id": "DJN-uJwOng9w",
        "colab_type": "text"
      },
      "source": [
        "Nhóm 19:\n",
        "Thành Viên nhóm:\n",
        "Trần Cảnh Vinh\n",
        "Phạm Tri Thức\n",
        "Vũ Thị Hường\n",
        "\n",
        "Ý tưởng: Nhận diện các loại thuốc trên hình ảnh một toa thuốc. Nếu không tồn tại loại thuốc trong kho thì đề xuất các loại thuốc tương ứng có cùng thành phần, hàm lượng\n",
        "1. Mô tả:\n",
        "Input: Ảnh chụp một toa thuốc \n",
        "Output: + Danh sách các loại thuốc có trong toa thuốc\n",
        "+ Nếu trong kho không có loại thuốc trong danh sách  thì gợi ý các thuốc có thể thay thế dựa trên thành phần và hàm lượng thuốc tương tự.\n",
        "2. Công cụ: smartphone, Python, Postgresql, Keras, NLTK\n",
        "3. Nội dung thực hiện:\n",
        "Thu thập một DataSet mẫu chứa các hình ảnh toa thuốc lấy từ thực tế của các bệnh nhân.\n",
        "Sử dụng thư viện python để nhận dạng hình ảnh và tách lấy ra các thông tin có trong toa thuốc.\n",
        "Tiến hành nhận dạng để phân biệt xem thông tin nào là tên thuốc, thông tin nào là liều dùng, thông tin nào là thời gian uống trong ngày,....\n",
        "Training dữ liệu đã được nhận dạng và cải thiện độ chính xác của Model sao cho kết quả trả về phân biệt rõ được các thông tin trong toa thuốc như tên thuốc, số lượng thuốc, liều dùng, thời gian uống, độ chính xác của kết quả.\n",
        "Nếu thuốc được nhận diện không có thì gọi xuống database để lấy ra những thuốc trong hệ thống có hàm lượng và thành phần tương tự với để thay thế và đánh dấu thuốc này là thuốc thay thế cho loại thuốc không tìm được.\n",
        "Sắp xếp kết quả trả về dựa trên độ chính xác của thuốc đã được nhận dạng.\n",
        "Test dữ liệu đã được training bằng cách chụp một tấm hình từ smartphone, truyền xuống database bằng API và trả về kết quả là các thuốc có trong toa thuốc. \n",
        "4. Phân công:"
      ]
    }
  ]
}